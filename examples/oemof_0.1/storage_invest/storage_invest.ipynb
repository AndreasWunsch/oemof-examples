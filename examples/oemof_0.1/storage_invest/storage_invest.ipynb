{
 "cells": [
  {
   "cell_type": "code",
   "execution_count": 1,
   "metadata": {},
   "outputs": [
    {
     "name": "stdout",
     "output_type": "stream",
     "text": [
      "16:35:48-INFO-Path for logging: /home/local/RL-INSTITUT/caroline.moeller/.oemof/log_files\n",
      "16:35:48-INFO-Used oemof version: 0.1.4\n",
      "16:35:48-INFO-The program started\n"
     ]
    }
   ],
   "source": [
    "import logging\n",
    "from oemof.tools import logger\n",
    "logger.define_logging()\n",
    "\n",
    "logging.info('The program started')"
   ]
  },
  {
   "cell_type": "code",
   "execution_count": 2,
   "metadata": {
    "collapsed": true
   },
   "outputs": [],
   "source": [
    "# INSTANTIATE ENERGY SYSTEM\n",
    "\n",
    "import pandas as pd\n",
    "from oemof import solph\n",
    "\n",
    "date_time_index = pd.date_range('1/1/2017', periods=8760,\n",
    "                               freq='H')\n",
    "\n",
    "energysystem = solph.EnergySystem(timeindex=date_time_index)"
   ]
  },
  {
   "cell_type": "code",
   "execution_count": 3,
   "metadata": {},
   "outputs": [
    {
     "name": "stdout",
     "output_type": "stream",
     "text": [
      "<oemof.solph.network.EnergySystem object at 0x7fd9d4661f98>\n"
     ]
    }
   ],
   "source": [
    "print(energysystem)"
   ]
  },
  {
   "cell_type": "code",
   "execution_count": 5,
   "metadata": {
    "collapsed": true
   },
   "outputs": [],
   "source": [
    "import pandas as pd\n",
    "\n",
    "# Import wind, PV and demand data\n",
    "data = pd.read_csv('data/example_data.csv', sep=',')"
   ]
  },
  {
   "cell_type": "code",
   "execution_count": 6,
   "metadata": {},
   "outputs": [
    {
     "name": "stdout",
     "output_type": "stream",
     "text": [
      "      timestep      demand_el        pv      wind\n",
      "0            1  209643.341577  0.000000  0.107020\n",
      "1            2  207497.200771  0.000000  0.074873\n",
      "2            3  200108.014899  0.000000  0.055654\n",
      "3            4  191892.680200  0.000000  0.065059\n",
      "4            5  185717.333107  0.000000  0.085573\n",
      "5            6  180672.748373  0.000000  0.096229\n",
      "6            7  172683.566147  0.000000  0.117940\n",
      "7            8  170048.197544  0.000000  0.159530\n",
      "8            9  171132.806339  0.000000  0.237170\n",
      "9           10  179532.755300  0.062188  0.285150\n",
      "10          11  189155.773753  0.154260  0.357240\n",
      "11          12  201026.470857  0.160160  0.463540\n",
      "12          13  208466.425651  0.103600  0.569320\n",
      "13          14  207718.737886  0.084862  0.689990\n",
      "14          15  205443.367096  0.052101  0.795170\n",
      "15          16  206255.669853  0.014673  0.868930\n",
      "16          17  217240.218495  0.000000  0.922780\n",
      "17          18  232798.585499  0.000000  0.958950\n",
      "18          19  237321.634940  0.000000  0.979630\n",
      "19          20  232387.818764  0.000000  0.990520\n",
      "20          21  224306.329407  0.000000  0.996260\n",
      "21          22  219280.206100  0.000000  0.998590\n",
      "22          23  223701.717696  0.000000  0.999330\n",
      "23          24  213926.392476  0.000000  0.999230\n",
      "24          25  201834.158257  0.000000  0.998740\n",
      "25          26  192215.755161  0.000000  0.998450\n",
      "26          27  187152.709001  0.000000  0.997790\n",
      "27          28  184355.802918  0.000000  0.997350\n",
      "28          29  184438.879336  0.000000  0.996900\n",
      "29          30  182786.581684  0.000000  0.996370\n",
      "...        ...            ...       ...       ...\n",
      "8730      8731  290278.236249  0.000000  0.976930\n",
      "8731      8732  281855.210505  0.000000  0.978790\n",
      "8732      8733  268110.678633  0.000000  0.980940\n",
      "8733      8734  258136.893081  0.000000  0.983020\n",
      "8734      8735  254315.377839  0.000000  0.983070\n",
      "8735      8736  240760.075586  0.000000  0.979950\n",
      "8736      8737  228612.457089  0.000000  0.969680\n",
      "8737      8738  219575.588920  0.000000  0.936300\n",
      "8738      8739  213760.239639  0.000000  0.824300\n",
      "8739      8740  209851.032623  0.000000  0.712430\n",
      "8740      8741  209181.805920  0.000000  0.852400\n",
      "8741      8742  207806.429661  0.000000  0.945550\n",
      "8742      8743  201751.081839  0.000000  0.932940\n",
      "8743      8744  206740.282293  0.000000  0.872160\n",
      "8744      8745  217263.295278  0.000000  0.793770\n",
      "8745      8746  232521.664105  0.042628  0.775550\n",
      "8746      8747  241309.303018  0.115240  0.853770\n",
      "8747      8748  248804.642092  0.137090  0.938090\n",
      "8748      8749  251430.779981  0.116600  0.951590\n",
      "8749      8750  245786.198893  0.102020  0.944280\n",
      "8750      8751  240104.694953  0.068199  0.922850\n",
      "8751      8752  237321.634940  0.022248  0.903640\n",
      "8752      8753  245200.048609  0.000000  0.882900\n",
      "8753      8754  261053.798434  0.000000  0.865740\n",
      "8754      8755  256599.979342  0.000000  0.839260\n",
      "8755      8756  243169.291717  0.000000  0.803870\n",
      "8756      8757  228880.147770  0.000000  0.766700\n",
      "8757      8758  226554.008057  0.000000  0.752300\n",
      "8758      8759  236343.179347  0.000000  0.737390\n",
      "8759      8760  235840.105480  0.000000  0.707440\n",
      "\n",
      "[8760 rows x 4 columns]\n"
     ]
    }
   ],
   "source": [
    "print(data)"
   ]
  },
  {
   "cell_type": "code",
   "execution_count": 7,
   "metadata": {
    "collapsed": true
   },
   "outputs": [],
   "source": [
    "# Define cost parameter\n",
    "\n",
    "from oemof.tools import economics\n",
    "\n",
    "price_gas = 0.04\n",
    "\n",
    "epc_wind = economics.annuity(capex=1000, n=20, wacc=0.05)  # equivalent periodical costs\n",
    "\n",
    "epc_pv = economics.annuity(capex=1000, n=20, wacc=0.05)\n",
    "\n",
    "epc_storage = economics.annuity(capex=1000, n=10, wacc=0.05)"
   ]
  },
  {
   "cell_type": "code",
   "execution_count": 8,
   "metadata": {
    "collapsed": true
   },
   "outputs": [],
   "source": [
    "# POPULATE ENERGY SYSTEM\n",
    "\n",
    "from oemof import solph\n",
    "\n",
    "# Create busses\n",
    "bgas = solph.Bus(label='natural_gas')\n",
    "\n",
    "bel = solph.Bus(label='electricity')"
   ]
  },
  {
   "cell_type": "code",
   "execution_count": 9,
   "metadata": {},
   "outputs": [
    {
     "data": {
      "text/plain": [
       "<oemof.solph.network.Source at 0x7fd9b3597990>"
      ]
     },
     "execution_count": 9,
     "metadata": {},
     "output_type": "execute_result"
    }
   ],
   "source": [
    "# Create sources\n",
    "\n",
    "solph.Source(label='gas',\n",
    "             outputs={bgas: solph.Flow(variable_costs=price_gas)})\n",
    "\n",
    "solph.Source(label='wind',\n",
    "             outputs={bel: solph.Flow(\n",
    "                 actual_value=data['wind'],\n",
    "                 fixed=True,\n",
    "                 fixed_costs=20,\n",
    "                 investment=solph.Investment(ep_costs=epc_wind))})\n",
    "\n",
    "solph.Source(label='pv',\n",
    "             outputs={bel: solph.Flow(\n",
    "                 actual_value=data['pv'],\n",
    "                 fixed=True,\n",
    "                 fixed_costs=20,\n",
    "                 investment=solph.Investment(ep_costs=epc_pv))})"
   ]
  },
  {
   "cell_type": "code",
   "execution_count": 10,
   "metadata": {},
   "outputs": [
    {
     "data": {
      "text/plain": [
       "<oemof.solph.network.Sink at 0x7fd9b3597798>"
      ]
     },
     "execution_count": 10,
     "metadata": {},
     "output_type": "execute_result"
    }
   ],
   "source": [
    "# Create sinks\n",
    "\n",
    "solph.Sink(label='demand',\n",
    "           inputs={bel: solph.Flow(\n",
    "               actual_value=data['demand_el'],\n",
    "               fixed=True,\n",
    "               nominal_value=1)})\n",
    "\n",
    "solph.Sink(label='excess_bel',\n",
    "           inputs={bel: solph.Flow()})"
   ]
  },
  {
   "cell_type": "code",
   "execution_count": 11,
   "metadata": {},
   "outputs": [
    {
     "data": {
      "text/plain": [
       "<oemof.solph.network.LinearTransformer at 0x7fd9b3597af8>"
      ]
     },
     "execution_count": 11,
     "metadata": {},
     "output_type": "execute_result"
    }
   ],
   "source": [
    "# Create transformer\n",
    "\n",
    "solph.LinearTransformer(label='pp_gas',\n",
    "                        inputs={bgas: solph.Flow()},\n",
    "                        outputs={bel: solph.Flow(\n",
    "                            nominal_value=10e10,\n",
    "                            variable_costs=0)},\n",
    "                        conversion_factors={bel: 0.58})"
   ]
  },
  {
   "cell_type": "code",
   "execution_count": 12,
   "metadata": {},
   "outputs": [
    {
     "data": {
      "text/plain": [
       "<oemof.solph.network.Storage at 0x7fd9b3597a68>"
      ]
     },
     "execution_count": 12,
     "metadata": {},
     "output_type": "execute_result"
    }
   ],
   "source": [
    "# Create storage\n",
    "\n",
    "solph.Storage(label='storage',\n",
    "              inputs={bel: solph.Flow(variable_costs=1)},\n",
    "              outputs={bel: solph.Flow()},\n",
    "              capacity_loss=0,\n",
    "              initial_capacity=0,\n",
    "              nominal_input_capacity_ratio=1/6,\n",
    "              nominal_output_capacity_ratio=1/6,\n",
    "              inflow_conversion_factor=1,\n",
    "              outflow_conversion_factor=0.8,\n",
    "              fixed_costs=35,\n",
    "              investment=solph.Investment(ep_costs=epc_storage))"
   ]
  },
  {
   "cell_type": "code",
   "execution_count": null,
   "metadata": {},
   "outputs": [
    {
     "name": "stdout",
     "output_type": "stream",
     "text": [
      "Welcome to the CBC MILP Solver \n",
      "Version: 2.8.12 \n",
      "Build Date: Sep  8 2014 \n",
      "\n",
      "command line - /usr/bin/cbc -printingOptions all -import /tmp/tmpyj4qzisg.pyomo.lp -import -stat=1 -solve -solu /tmp/tmpyj4qzisg.pyomo.soln (default strategy 1)\n",
      "Option for printingOptions changed from normal to all\n",
      "Current default (if $ as parameter) for import is /tmp/tmpyj4qzisg.pyomo.lp\n"
     ]
    }
   ],
   "source": [
    "# COMPUTE RESULTS\n",
    "\n",
    "om = solph.OperationalModel(energysystem)\n",
    "\n",
    "om.solve(solver='cbc', solve_kwargs={'tee': True})"
   ]
  },
  {
   "cell_type": "code",
   "execution_count": null,
   "metadata": {
    "collapsed": true
   },
   "outputs": [],
   "source": [
    "# filename = os.path.join(\n",
    "#             helpers.extend_basic_path('lp_files'), 'storage_invest.lp')\n",
    "# logging.info('Store lp-file in {0}.'.format(filename))\n",
    "# om.write(filename, io_options={'symbolic_solver_labels': True})"
   ]
  },
  {
   "cell_type": "code",
   "execution_count": null,
   "metadata": {
    "collapsed": true
   },
   "outputs": [],
   "source": [
    "# PROCESS RESULTS\n",
    "\n",
    "from oemof import outputlib\n",
    "\n",
    "storage = energysystem.groups['storage']\n",
    "wind_inst = energysystem.groups['wind']\n",
    "pv_inst = energysystem.groups['pv']\n",
    "myresults = outputlib.DataFramePlot(energy_system=energysystem)\n",
    "\n",
    "pp_gas = myresults.slice_by(obj_label='pp_gas', type='to_bus',\n",
    "                            date_from='2017-01-01 00:00:00',\n",
    "                            date_to='2017-12-31 23:00:00')\n",
    "\n",
    "demand = myresults.slice_by(obj_label='demand',\n",
    "                            date_from='2017-01-01 00:00:00',\n",
    "                            date_to='2017-12-31 23:00:00')\n",
    "\n",
    "import pprint as pp\n",
    "pp.pprint({\n",
    "    'wind_inst_MW': energysystem.results[wind_inst][bel].invest/1000,\n",
    "    'pv_inst_MW': energysystem.results[pv_inst][bel].invest/1000,\n",
    "    'storage_cap_GWh': energysystem.results[storage][storage].invest/1e6,\n",
    "    'res_share': 1 - pp_gas.sum()/demand.sum(),\n",
    "    'objective': energysystem.results.objective\n",
    "    })"
   ]
  },
  {
   "cell_type": "code",
   "execution_count": null,
   "metadata": {
    "collapsed": true
   },
   "outputs": [],
   "source": [
    "import matplotlib.pyplot as plt\n",
    "\n",
    "cdict = {'wind': '#5b5bae',\n",
    "         'pv': '#ffde32',\n",
    "         'storage': '#42c77a',\n",
    "         'pp_gas': '#636f6b',\n",
    "         'demand': '#ce4aff',\n",
    "         'excess_bel': '#555555'}\n",
    "\n",
    "myplot = outputlib.DataFramePlot(energy_system=energysystem)\n",
    "# Plotting the balance around the electricity plot for one week using a\n",
    "# combined stacked plot\n",
    "fig = plt.figure(figsize=(24, 14))\n",
    "plt.rc('legend', **{'fontsize': 19})\n",
    "plt.rcParams.update({'font.size': 19})\n",
    "plt.style.use('grayscale')\n",
    "\n",
    "handles, labels = myplot.io_plot(\n",
    "    bus_label='electricity', cdict=cdict,\n",
    "    barorder=['pv', 'wind', 'pp_gas', 'storage'],\n",
    "    lineorder=['demand', 'storage', 'excess_bel'],\n",
    "    line_kwa={'linewidth': 4},\n",
    "    ax=fig.add_subplot(1, 1, 1),\n",
    "    date_from=\"2017-06-01 00:00:00\",\n",
    "    date_to=\"2017-06-08 00:00:00\",\n",
    "    )\n",
    "myplot.ax.set_ylabel('Power in kW')\n",
    "myplot.ax.set_xlabel('Date')\n",
    "myplot.ax.set_title(\"Electricity bus\")\n",
    "myplot.set_datetime_ticks(tick_distance=24, date_format='%d-%m-%Y')\n",
    "myplot.outside_legend(handles=handles, labels=labels)\n",
    "\n",
    "plt.show()"
   ]
  },
  {
   "cell_type": "code",
   "execution_count": null,
   "metadata": {
    "collapsed": true
   },
   "outputs": [],
   "source": []
  }
 ],
 "metadata": {
  "kernelspec": {
   "display_name": "Python 3",
   "language": "python",
   "name": "python3"
  },
  "language_info": {
   "codemirror_mode": {
    "name": "ipython",
    "version": 3
   },
   "file_extension": ".py",
   "mimetype": "text/x-python",
   "name": "python",
   "nbconvert_exporter": "python",
   "pygments_lexer": "ipython3",
   "version": "3.4.2"
  }
 },
 "nbformat": 4,
 "nbformat_minor": 2
}
